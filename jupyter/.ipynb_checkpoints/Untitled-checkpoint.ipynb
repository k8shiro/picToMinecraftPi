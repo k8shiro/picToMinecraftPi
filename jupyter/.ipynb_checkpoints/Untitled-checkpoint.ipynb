{
 "cells": [
  {
   "cell_type": "code",
   "execution_count": 1,
   "id": "a15c442e-63f4-4382-b37d-358ee46d9062",
   "metadata": {},
   "outputs": [],
   "source": [
    "from mcpi.minecraft import Minecraft\n",
    "mc = Minecraft.create(\"minecraft-server\", 4711)\n",
    "mc.postToChat(\"Hello Minecraft!!!\")\n",
    "\n"
   ]
  },
  {
   "cell_type": "code",
   "execution_count": 2,
   "id": "aaae693f-d7fd-4bf3-b717-c65a2ae65e3d",
   "metadata": {},
   "outputs": [],
   "source": [
    "import mcpi.block as block\n",
    "\n",
    "x0 = -100\n",
    "x1 = 100\n",
    "z0 = -100\n",
    "z1 = 100\n",
    "y0 = 100\n",
    "y1 = 100\n",
    "mc.setBlocks(x0,y0,z0,x1,y1,z1,block.WOOL.withData(1))\n",
    "mc.player.setTilePos(0,105,0)"
   ]
  },
  {
   "cell_type": "code",
   "execution_count": null,
   "id": "e60fbc0c-cf82-420d-8991-f4b9d8030768",
   "metadata": {},
   "outputs": [],
   "source": []
  }
 ],
 "metadata": {
  "kernelspec": {
   "display_name": "Python 3 (ipykernel)",
   "language": "python",
   "name": "python3"
  },
  "language_info": {
   "codemirror_mode": {
    "name": "ipython",
    "version": 3
   },
   "file_extension": ".py",
   "mimetype": "text/x-python",
   "name": "python",
   "nbconvert_exporter": "python",
   "pygments_lexer": "ipython3",
   "version": "3.9.6"
  }
 },
 "nbformat": 4,
 "nbformat_minor": 5
}
